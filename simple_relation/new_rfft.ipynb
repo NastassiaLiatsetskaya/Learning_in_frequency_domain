{
 "cells": [
  {
   "cell_type": "code",
   "execution_count": null,
   "id": "initial_id",
   "metadata": {
    "collapsed": true
   },
   "outputs": [],
   "source": [
    "import numpy as np\n",
    "def calculate_mean(n, real_mu, imag_mu, full_number):\n",
    "    mean=0\n",
    "    for k in range((full_number/2)-1):\n",
    "        mean+=np.cos(k*n)*real_mu[k]-np.sin(k*n)*imag_mu\n",
    "    return mean*(2/full_number)\n",
    "\n",
    "def calculate_variance(n, real_var, imag_var, full_number):\n",
    "    variance=0\n",
    "    for k in range((full_number/2)-1):\n",
    "        variance+=np.cos(k*n)**2*real_var[k] + np.sin(k*n)**2*imag_var[k]\n",
    "    return variance*(4/(full_number**2))"
   ]
  },
  {
   "cell_type": "markdown",
   "source": [],
   "metadata": {
    "collapsed": false
   },
   "id": "59465c2e5417bee"
  },
  {
   "cell_type": "code",
   "outputs": [],
   "source": [
    "import mogptk\n",
    "model=mogptk.LoadModel(\"\")\n",
    "mu,var=model.gpr.predict_f(x)"
   ],
   "metadata": {
    "collapsed": false
   },
   "id": "75127f5f29f3166e"
  }
 ],
 "metadata": {
  "kernelspec": {
   "display_name": "Python 3",
   "language": "python",
   "name": "python3"
  },
  "language_info": {
   "codemirror_mode": {
    "name": "ipython",
    "version": 2
   },
   "file_extension": ".py",
   "mimetype": "text/x-python",
   "name": "python",
   "nbconvert_exporter": "python",
   "pygments_lexer": "ipython2",
   "version": "2.7.6"
  }
 },
 "nbformat": 4,
 "nbformat_minor": 5
}
