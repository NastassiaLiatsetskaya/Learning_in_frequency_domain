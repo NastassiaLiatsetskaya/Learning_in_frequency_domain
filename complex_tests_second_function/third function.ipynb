{
 "cells": [
  {
   "cell_type": "code",
   "execution_count": 1,
   "id": "initial_id",
   "metadata": {
    "collapsed": true,
    "ExecuteTime": {
     "end_time": "2024-08-12T21:22:51.927604Z",
     "start_time": "2024-08-12T21:22:51.489673Z"
    }
   },
   "outputs": [],
   "source": [
    "import numpy as np\n",
    "def low_fidelity(x):\n",
    "    return np.sin(8*np.pi*x)\n",
    "def high_fidelity(x):\n",
    "    return np.sin(8*np.pi*x+np.pi/10)**2+np.cos(4*np.pi*x)"
   ]
  },
  {
   "cell_type": "code",
   "outputs": [],
   "source": [],
   "metadata": {
    "collapsed": false
   },
   "id": "b3a3f15dae86aef7"
  }
 ],
 "metadata": {
  "kernelspec": {
   "display_name": "Python 3",
   "language": "python",
   "name": "python3"
  },
  "language_info": {
   "codemirror_mode": {
    "name": "ipython",
    "version": 2
   },
   "file_extension": ".py",
   "mimetype": "text/x-python",
   "name": "python",
   "nbconvert_exporter": "python",
   "pygments_lexer": "ipython2",
   "version": "2.7.6"
  }
 },
 "nbformat": 4,
 "nbformat_minor": 5
}
