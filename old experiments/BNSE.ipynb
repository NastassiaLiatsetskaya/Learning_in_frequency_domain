{
 "cells": [
  {
   "cell_type": "code",
   "execution_count": 1,
   "id": "initial_id",
   "metadata": {
    "collapsed": true,
    "ExecuteTime": {
     "end_time": "2024-06-13T09:01:57.068677Z",
     "start_time": "2024-06-13T09:00:24.174123Z"
    }
   },
   "outputs": [
    {
     "name": "stdout",
     "output_type": "stream",
     "text": [
      "torch.Size([400, 3]) input shape\n",
      "torch.Size([400, 3]) output shape\n",
      "[410.75966049178606, 410.74263568836477, 412.81424656715944, 412.37167132348316, 414.3361406420136] first values\n",
      "[tensor([411.7597], dtype=torch.float64), tensor([411.7426], dtype=torch.float64), tensor([413.8142], dtype=torch.float64), tensor([413.3717], dtype=torch.float64), tensor([415.3361], dtype=torch.float64)] second values\n",
      "[ 2.06602435e+03+0.j         -1.86640702e+00+3.1574871j\n",
      " -1.74661911e+00+2.53312329j] output\n"
     ]
    },
    {
     "name": "stderr",
     "output_type": "stream",
     "text": [
      "C:\\Users\\anast\\PycharmProjects\\Spectral_Mixture\\.venv\\lib\\site-packages\\scipy\\fft\\_pocketfft\\helper.py:87: FutureWarning: The input object of type 'Tensor' is an array-like implementing one of the corresponding protocols (`__array__`, `__array_interface__` or `__array_struct__`); but not a sequence (or 0-D). In the future, this object will be coerced as if it was first converted using `np.array(obj)`. To retain the old behaviour, you have to either modify the type 'Tensor', or assign to an empty array created with `np.empty(correct_shape, dtype=object)`.\n",
      "  x = np.asarray(x)\n",
      "C:\\Users\\anast\\PycharmProjects\\Spectral_Mixture\\.venv\\lib\\site-packages\\scipy\\fft\\_pocketfft\\helper.py:87: VisibleDeprecationWarning: Creating an ndarray from ragged nested sequences (which is a list-or-tuple of lists-or-tuples-or ndarrays with different lengths or shapes) is deprecated. If you meant to do this, you must specify 'dtype=object' when creating the ndarray.\n",
      "  x = np.asarray(x)\n",
      "BNSE could not find peaks for SM\n"
     ]
    },
    {
     "name": "stdout",
     "output_type": "stream",
     "text": [
      "first\n"
     ]
    },
    {
     "name": "stderr",
     "output_type": "stream",
     "text": [
      "BNSE could not find peaks for SM\n"
     ]
    },
    {
     "name": "stdout",
     "output_type": "stream",
     "text": [
      "second\n"
     ]
    },
    {
     "name": "stderr",
     "output_type": "stream",
     "text": [
      "BNSE could not find peaks for SM\n"
     ]
    },
    {
     "name": "stdout",
     "output_type": "stream",
     "text": [
      "third\n"
     ]
    }
   ],
   "source": [
    "import mogptk\n",
    "from scipy.fft import rfft, rfftfreq\n",
    "import numpy as np\n",
    "import torch\n",
    "torch.manual_seed(1)\n",
    "import json\n",
    "def func1(t):\n",
    "    return torch.tensor([np.sin(t)+ np.cos(t**2)+ max(30,t)])\n",
    "   # return t*2\n",
    "def func2(t):\n",
    "    return (torch.relu(func1(t))+ torch.sigmoid(func1(t)))\n",
    "    #return t*3\n",
    "\n",
    "num_training_samples=400\n",
    "length=3\n",
    "\n",
    "x_train=[]\n",
    "\n",
    "for i in range(num_training_samples):\n",
    "    index=i+i*3\n",
    "    x_train.append(np.linspace(index, index+3, 3))\n",
    "\n",
    "\n",
    "\n",
    "f1=[]\n",
    "f2=[]\n",
    "for i in x_train:\n",
    "    values1=[]\n",
    "    values2=[]\n",
    "    for index in i:\n",
    "        values1.append(func1(index).item())\n",
    "        values2.append(func2(index).item())\n",
    "    f1.append(values1)\n",
    "    f2.append(values2)\n",
    "\n",
    "x_train=torch.tensor(f1)\n",
    "print(x_train.shape, \"input shape\")\n",
    "y_train=torch.tensor(f2)\n",
    "print(y_train.shape, \"output shape\")\n",
    "\n",
    "x_test=[411,412,413,414,415]\n",
    "values=[func1(x).item() for x in x_test]\n",
    "values_second=[func2(x) for x in x_test]\n",
    "print(values, \"first values\")\n",
    "print(values_second, \"second values\")\n",
    "print(rfft(values_second), \"output\")\n",
    "\n",
    "method=\"BNSE\"\n",
    "\n",
    "data1=mogptk.DataSet(x_train,y_train[:,0])\n",
    "model1=mogptk.SM(data1,Q=20)\n",
    "model1.init_parameters(method)\n",
    "print(\"first\")\n",
    "data2=mogptk.DataSet(x_train,y_train[:,1])\n",
    "model2=mogptk.SM(data2,Q=15)\n",
    "model2.init_parameters(method)\n",
    "print(\"second\")\n",
    "data3=mogptk.DataSet(x_train,y_train[:,2])\n",
    "model3=mogptk.SM(data3,Q=15)\n",
    "model3.init_parameters(method)\n",
    "print(\"third\")\n",
    "\n",
    "\n",
    "\n"
   ]
  },
  {
   "cell_type": "code",
   "outputs": [
    {
     "name": "stdout",
     "output_type": "stream",
     "text": [
      "[0.  1.5 3. ] [4.  5.5 7. ]\n",
      "torch.Size([400, 3]) input shape tensor([0.0000, 0.9975, 0.1411]) tensor([-0.7568, -0.7055,  0.6570])\n",
      "torch.Size([400, 3]) output shape tensor([ 1.0000,  0.0707, -0.9900]) tensor([-0.6536,  0.7087,  0.7539])\n"
     ]
    },
    {
     "name": "stderr",
     "output_type": "stream",
     "text": [
      "BNSE could not find peaks for SM\n"
     ]
    },
    {
     "name": "stdout",
     "output_type": "stream",
     "text": [
      "first\n",
      "second\n"
     ]
    },
    {
     "name": "stderr",
     "output_type": "stream",
     "text": [
      "BNSE could not find peaks for SM\n"
     ]
    },
    {
     "name": "stdout",
     "output_type": "stream",
     "text": [
      "third\n"
     ]
    }
   ],
   "source": [
    "import mogptk\n",
    "from scipy.fft import rfft, rfftfreq\n",
    "import numpy as np\n",
    "import torch\n",
    "torch.manual_seed(1)\n",
    "import json\n",
    "def func1(t):\n",
    "    return torch.tensor([np.sin(t)])\n",
    "   # return t*2\n",
    "def func2(t):\n",
    "    return torch.tensor([np.cos(t)])\n",
    "    #return t*3\n",
    "\n",
    "num_training_samples=400\n",
    "length=3\n",
    "\n",
    "x_train=[]\n",
    "\n",
    "for i in range(num_training_samples):\n",
    "    index=i+i*3\n",
    "    x_train.append(np.linspace(index, index+3, 3))\n",
    "\n",
    "print(x_train[0],x_train[1])\n",
    "\n",
    "f1=[]\n",
    "f2=[]\n",
    "for i in x_train:\n",
    "    f1.append([(func1(index).item()) for index in i])\n",
    "    f2.append([(func2(index).item()) for index in i])\n",
    "\n",
    "x_train=torch.tensor(f1)\n",
    "print(x_train.shape, \"input shape\", x_train[0],x_train[1])\n",
    "y_train=torch.tensor(f2)\n",
    "print(y_train.shape, \"output shape\",y_train[0],y_train[1])\n",
    "\n",
    "\n",
    "method=\"BNSE\"\n",
    "\n",
    "data1=mogptk.DataSet(x_train,y_train[:,0])\n",
    "model1=mogptk.SM(data1,Q=20)\n",
    "model1.init_parameters(method)\n",
    "print(\"first\")\n",
    "data2=mogptk.DataSet(x_train,y_train[:,1])\n",
    "model2=mogptk.SM(data2,Q=15)\n",
    "model2.init_parameters(method)\n",
    "print(\"second\")\n",
    "data3=mogptk.DataSet(x_train,y_train[:,2])\n",
    "model3=mogptk.SM(data3,Q=15)\n",
    "model3.init_parameters(method)\n",
    "print(\"third\")"
   ],
   "metadata": {
    "collapsed": false,
    "ExecuteTime": {
     "end_time": "2024-06-13T17:10:17.927045Z",
     "start_time": "2024-06-13T17:08:02.212184Z"
    }
   },
   "id": "5a3e1be2400c7cfa",
   "execution_count": 9
  },
  {
   "cell_type": "code",
   "outputs": [
    {
     "data": {
      "text/plain": "0.9974949866040544"
     },
     "execution_count": 7,
     "metadata": {},
     "output_type": "execute_result"
    }
   ],
   "source": [
    "np.sin(1.5)"
   ],
   "metadata": {
    "collapsed": false,
    "ExecuteTime": {
     "end_time": "2024-06-13T09:23:17.742640Z",
     "start_time": "2024-06-13T09:23:17.729653Z"
    }
   },
   "id": "2b2e1477dd13d528",
   "execution_count": 7
  },
  {
   "cell_type": "code",
   "outputs": [],
   "source": [],
   "metadata": {
    "collapsed": false
   },
   "id": "ee8e6e5315fb8a81"
  }
 ],
 "metadata": {
  "kernelspec": {
   "display_name": "Python 3",
   "language": "python",
   "name": "python3"
  },
  "language_info": {
   "codemirror_mode": {
    "name": "ipython",
    "version": 2
   },
   "file_extension": ".py",
   "mimetype": "text/x-python",
   "name": "python",
   "nbconvert_exporter": "python",
   "pygments_lexer": "ipython2",
   "version": "2.7.6"
  }
 },
 "nbformat": 4,
 "nbformat_minor": 5
}
